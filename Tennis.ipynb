{
 "cells": [
  {
   "cell_type": "markdown",
   "metadata": {},
   "source": [
    "# Collaboration and Competition\n",
    "\n",
    "---\n",
    "\n",
    "You are welcome to use this coding environment to train your agent for the project.  Follow the instructions below to get started!\n",
    "\n",
    "### 1. Start the Environment\n",
    "\n"
   ]
  },
  {
   "cell_type": "markdown",
   "metadata": {},
   "source": [
    "The environment is already saved in the Workspace and can be accessed at the file path provided below. "
   ]
  },
  {
   "cell_type": "code",
   "execution_count": 1,
   "metadata": {
    "ExecutionIndicator": {
     "show": true
    },
    "execution": {
     "iopub.execute_input": "2023-09-02T03:06:25.241917Z",
     "iopub.status.busy": "2023-09-02T03:06:25.241726Z",
     "iopub.status.idle": "2023-09-02T03:06:26.437700Z",
     "shell.execute_reply": "2023-09-02T03:06:26.436764Z",
     "shell.execute_reply.started": "2023-09-02T03:06:25.241886Z"
    },
    "tags": []
   },
   "outputs": [
    {
     "name": "stderr",
     "output_type": "stream",
     "text": [
      "INFO:unityagents:\n",
      "'Academy' started successfully!\n",
      "Unity Academy name: Academy\n",
      "        Number of Brains: 1\n",
      "        Number of External Brains : 1\n",
      "        Lesson number : 0\n",
      "        Reset Parameters :\n",
      "\t\t\n",
      "Unity brain name: TennisBrain\n",
      "        Number of Visual Observations (per agent): 0\n",
      "        Vector Observation space type: continuous\n",
      "        Vector Observation space size (per agent): 8\n",
      "        Number of stacked Vector Observation: 3\n",
      "        Vector Action space type: continuous\n",
      "        Vector Action space size (per agent): 2\n",
      "        Vector Action descriptions: , \n"
     ]
    }
   ],
   "source": [
    "from unityagents import UnityEnvironment\n",
    "import numpy as np\n",
    "\n",
    "env = UnityEnvironment(file_name=\"Tennis_Linux_NoVis/Tennis_Linux_NoVis/Tennis.x86_64\")"
   ]
  },
  {
   "cell_type": "markdown",
   "metadata": {},
   "source": [
    "Environments contain **_brains_** which are responsible for deciding the actions of their associated agents. Here we check for the first brain available, and set it as the default brain we will be controlling from Python."
   ]
  },
  {
   "cell_type": "code",
   "execution_count": 2,
   "metadata": {
    "execution": {
     "iopub.execute_input": "2023-09-02T03:06:26.481282Z",
     "iopub.status.busy": "2023-09-02T03:06:26.481003Z",
     "iopub.status.idle": "2023-09-02T03:06:26.485042Z",
     "shell.execute_reply": "2023-09-02T03:06:26.484281Z",
     "shell.execute_reply.started": "2023-09-02T03:06:26.481244Z"
    },
    "tags": []
   },
   "outputs": [],
   "source": [
    "# get the default brain\n",
    "brain_name = env.brain_names[0]\n",
    "brain = env.brains[brain_name]"
   ]
  },
  {
   "cell_type": "markdown",
   "metadata": {},
   "source": [
    "### 2. Examine the State and Action Spaces\n",
    "\n",
    "Run the code cell below to print some information about the environment."
   ]
  },
  {
   "cell_type": "code",
   "execution_count": 3,
   "metadata": {
    "execution": {
     "iopub.execute_input": "2023-09-02T03:06:26.488835Z",
     "iopub.status.busy": "2023-09-02T03:06:26.488641Z",
     "iopub.status.idle": "2023-09-02T03:06:26.573129Z",
     "shell.execute_reply": "2023-09-02T03:06:26.572323Z",
     "shell.execute_reply.started": "2023-09-02T03:06:26.488806Z"
    },
    "tags": []
   },
   "outputs": [
    {
     "name": "stdout",
     "output_type": "stream",
     "text": [
      "Number of agents: 2\n",
      "Size of each action: 2\n",
      "There are 2 agents. Each observes a state with length: 24\n",
      "The state for the first agent looks like: [ 0.          0.          0.          0.          0.          0.\n",
      "  0.          0.          0.          0.          0.          0.\n",
      "  0.          0.          0.          0.         -6.65278625 -1.5\n",
      " -0.          0.          6.83172083  6.         -0.          0.        ]\n"
     ]
    }
   ],
   "source": [
    "# reset the environment\n",
    "env_info = env.reset(train_mode=True)[brain_name]\n",
    "\n",
    "# number of agents \n",
    "num_agents = len(env_info.agents)\n",
    "print('Number of agents:', num_agents)\n",
    "\n",
    "# size of each action\n",
    "action_size = brain.vector_action_space_size\n",
    "print('Size of each action:', action_size)\n",
    "\n",
    "# examine the state space \n",
    "states = env_info.vector_observations\n",
    "state_size = states.shape[1]\n",
    "print('There are {} agents. Each observes a state with length: {}'.format(states.shape[0], state_size))\n",
    "print('The state for the first agent looks like:', states[0])"
   ]
  },
  {
   "cell_type": "markdown",
   "metadata": {},
   "source": [
    "### 3. Take Random Actions in the Environment\n",
    "\n",
    "In the next code cell, you will learn how to use the Python API to control the agent and receive feedback from the environment.\n",
    "\n",
    "Note that **in this coding environment, you will not be able to watch the agents while they are training**, and you should set `train_mode=True` to restart the environment."
   ]
  },
  {
   "cell_type": "code",
   "execution_count": 4,
   "metadata": {
    "ExecutionIndicator": {
     "show": false
    },
    "execution": {
     "iopub.execute_input": "2023-09-02T03:06:26.574528Z",
     "iopub.status.busy": "2023-09-02T03:06:26.574295Z",
     "iopub.status.idle": "2023-09-02T03:06:26.585250Z",
     "shell.execute_reply": "2023-09-02T03:06:26.584412Z",
     "shell.execute_reply.started": "2023-09-02T03:06:26.574496Z"
    },
    "tags": []
   },
   "outputs": [
    {
     "data": {
      "text/plain": [
       "\"\\nfor i in range(5):                                         # play game for 5 episodes\\n    env_info = env.reset(train_mode=False)[brain_name]     # reset the environment    \\n    states = env_info.vector_observations                  # get the current state (for each agent)\\n    scores = np.zeros(num_agents)                          # initialize the score (for each agent)\\n    while True:\\n        actions = np.random.randn(num_agents, action_size) # select an action (for each agent)\\n        actions = np.clip(actions, -1, 1)                  # all actions between -1 and 1\\n        env_info = env.step(actions)[brain_name]           # send all actions to tne environment\\n        next_states = env_info.vector_observations         # get next state (for each agent)\\n        rewards = env_info.rewards                         # get reward (for each agent)\\n        dones = env_info.local_done                        # see if episode finished\\n        scores += env_info.rewards                         # update the score (for each agent)\\n        states = next_states                               # roll over states to next time step\\n        if np.any(dones):                                  # exit loop if episode finished\\n            break\\n    print('Total score (averaged over agents) this episode: {}'.format(np.mean(scores)))\\n\""
      ]
     },
     "execution_count": 4,
     "metadata": {},
     "output_type": "execute_result"
    }
   ],
   "source": [
    "'''\n",
    "for i in range(5):                                         # play game for 5 episodes\n",
    "    env_info = env.reset(train_mode=False)[brain_name]     # reset the environment    \n",
    "    states = env_info.vector_observations                  # get the current state (for each agent)\n",
    "    scores = np.zeros(num_agents)                          # initialize the score (for each agent)\n",
    "    while True:\n",
    "        actions = np.random.randn(num_agents, action_size) # select an action (for each agent)\n",
    "        actions = np.clip(actions, -1, 1)                  # all actions between -1 and 1\n",
    "        env_info = env.step(actions)[brain_name]           # send all actions to tne environment\n",
    "        next_states = env_info.vector_observations         # get next state (for each agent)\n",
    "        rewards = env_info.rewards                         # get reward (for each agent)\n",
    "        dones = env_info.local_done                        # see if episode finished\n",
    "        scores += env_info.rewards                         # update the score (for each agent)\n",
    "        states = next_states                               # roll over states to next time step\n",
    "        if np.any(dones):                                  # exit loop if episode finished\n",
    "            break\n",
    "    print('Total score (averaged over agents) this episode: {}'.format(np.mean(scores)))\n",
    "'''"
   ]
  },
  {
   "cell_type": "markdown",
   "metadata": {},
   "source": [
    "When finished, you can close the environment."
   ]
  },
  {
   "cell_type": "code",
   "execution_count": 5,
   "metadata": {
    "execution": {
     "iopub.execute_input": "2023-09-02T03:06:26.586525Z",
     "iopub.status.busy": "2023-09-02T03:06:26.586299Z",
     "iopub.status.idle": "2023-09-02T03:06:26.589611Z",
     "shell.execute_reply": "2023-09-02T03:06:26.588755Z",
     "shell.execute_reply.started": "2023-09-02T03:06:26.586471Z"
    }
   },
   "outputs": [],
   "source": [
    "#env.close()"
   ]
  },
  {
   "cell_type": "markdown",
   "metadata": {},
   "source": [
    "### 4. It's Your Turn!\n",
    "\n",
    "Now it's your turn to train your own agent to solve the environment!  A few **important notes**:\n",
    "- When training the environment, set `train_mode=True`, so that the line for resetting the environment looks like the following:\n",
    "```python\n",
    "env_info = env.reset(train_mode=True)[brain_name]\n",
    "```\n",
    "- To structure your work, you're welcome to work directly in this Jupyter notebook, or you might like to start over with a new file!  You can see the list of files in the workspace by clicking on **_Jupyter_** in the top left corner of the notebook.\n",
    "- In this coding environment, you will not be able to watch the agents while they are training.  However, **_after training the agents_**, you can download the saved model weights to watch the agents on your own machine! "
   ]
  },
  {
   "cell_type": "code",
   "execution_count": 6,
   "metadata": {
    "ExecutionIndicator": {
     "show": true
    },
    "execution": {
     "iopub.execute_input": "2023-09-02T03:06:26.590804Z",
     "iopub.status.busy": "2023-09-02T03:06:26.590609Z",
     "iopub.status.idle": "2023-09-02T03:06:26.618591Z",
     "shell.execute_reply": "2023-09-02T03:06:26.617871Z",
     "shell.execute_reply.started": "2023-09-02T03:06:26.590775Z"
    },
    "tags": []
   },
   "outputs": [
    {
     "name": "stdout",
     "output_type": "stream",
     "text": [
      "[[ 0.          0.          0.          0.          0.          0.\n",
      "   0.          0.          0.          0.          0.          0.\n",
      "   0.          0.          0.          0.         -7.38993645 -1.5\n",
      "  -0.          0.          6.83172083  5.99607611 -0.          0.        ]\n",
      " [ 0.          0.          0.          0.          0.          0.\n",
      "   0.          0.          0.          0.          0.          0.\n",
      "   0.          0.          0.          0.         -6.70024681 -1.5\n",
      "   0.          0.         -6.83172083  5.99607611  0.          0.        ]]\n",
      "[ 0.          0.          0.          0.          0.          0.\n",
      "  0.          0.          0.          0.          0.          0.\n",
      "  0.          0.          0.          0.         -7.38993645 -1.5\n",
      " -0.          0.          6.83172083  5.99607611 -0.          0.\n",
      "  0.          0.          0.          0.          0.          0.\n",
      "  0.          0.          0.          0.          0.          0.\n",
      "  0.          0.          0.          0.         -6.70024681 -1.5\n",
      "  0.          0.         -6.83172083  5.99607611  0.          0.        ]\n",
      "[[ 0.          0.          0.          0.          0.          0.\n",
      "   0.          0.          0.          0.          0.          0.\n",
      "   0.          0.          0.          0.         -7.38993645 -1.5\n",
      "  -0.          0.          6.83172083  5.99607611 -0.          0.        ]]\n",
      "[0.0, 0.0]\n",
      "[False, False]\n"
     ]
    }
   ],
   "source": [
    "env_info = env.reset(train_mode=True)[brain_name]\n",
    "states = env_info.vector_observations\n",
    "print (states)\n",
    "print (states.flatten())\n",
    "print (states[0].reshape(1,-1))\n",
    "actions = np.random.randn(num_agents, action_size) # select an action (for each agent)\n",
    "actions = np.clip(actions, -1, 1)                  # all actions between -1 and 1\n",
    "env_info = env.step(actions)[brain_name]           # send all actions to tne environment\n",
    "#next_states = env_info.vector_observations         # get next state (for each agent)\n",
    "print (env_info.rewards)                         # get reward (for each agent)\n",
    "print (env_info.local_done)    "
   ]
  },
  {
   "cell_type": "code",
   "execution_count": 7,
   "metadata": {
    "ExecutionIndicator": {
     "show": true
    },
    "execution": {
     "iopub.execute_input": "2023-09-02T03:06:26.620919Z",
     "iopub.status.busy": "2023-09-02T03:06:26.620702Z",
     "iopub.status.idle": "2023-09-02T03:06:31.521277Z",
     "shell.execute_reply": "2023-09-02T03:06:31.520256Z",
     "shell.execute_reply.started": "2023-09-02T03:06:26.620889Z"
    },
    "tags": []
   },
   "outputs": [],
   "source": [
    "from p3_ddpg_agent import Agent\n",
    "from collections import deque\n",
    "import time\n",
    "import torch\n",
    "env_info = env.reset(train_mode=True)[brain_name]\n",
    "agent_left = Agent(state_size, action_size, random_seed=10)\n",
    "agent_right = Agent(state_size, action_size, random_seed=10)"
   ]
  },
  {
   "cell_type": "code",
   "execution_count": 8,
   "metadata": {
    "ExecutionIndicator": {
     "show": true
    },
    "execution": {
     "iopub.execute_input": "2023-09-02T03:06:31.523448Z",
     "iopub.status.busy": "2023-09-02T03:06:31.523143Z",
     "iopub.status.idle": "2023-09-02T03:34:23.011613Z",
     "shell.execute_reply": "2023-09-02T03:34:23.010865Z",
     "shell.execute_reply.started": "2023-09-02T03:06:31.523399Z"
    },
    "tags": []
   },
   "outputs": [
    {
     "name": "stdout",
     "output_type": "stream",
     "text": [
      "Episode 100\tAverage most 100 Score: 0.01\n",
      "Episode 200\tAverage most 100 Score: 0.02\n",
      "Episode 300\tAverage most 100 Score: 0.06\n",
      "Episode 400\tAverage most 100 Score: 0.08\n",
      "Episode 500\tAverage most 100 Score: 0.08\n",
      "Episode 600\tAverage most 100 Score: 0.10\n",
      "Episode 700\tAverage most 100 Score: 0.12\n",
      "Episode 800\tAverage most 100 Score: 0.12\n",
      "Episode 900\tAverage most 100 Score: 0.16\n",
      "Episode 1000\tAverage most 100 Score: 0.18\n",
      "Episode 1100\tAverage most 100 Score: 0.43\n",
      "Episode 1118\t Score: 0.90\n",
      "Environment solved in 1118 episodes!\tAverage Score: 0.50\n",
      "duration time :27.86 miniutes \n"
     ]
    }
   ],
   "source": [
    "def ddpg(n_episodes=2000, max_t=1000):\n",
    "    \"\"\"DDPG.\n",
    "    \n",
    "    Params\n",
    "    ======\n",
    "        n_episodes (int): maximum number of training episodes\n",
    "        max_t (int): maximum number of timesteps per episode\n",
    "       \n",
    "    \"\"\"\n",
    "    scores = []                        # list containing scores from each episode\n",
    "    scores_window = deque(maxlen=100)  # last 100 scores\n",
    "    noise = 1.0\n",
    "    noise_reduction = 0.9999\n",
    "    scores_avg = []                   #average score in score_window\n",
    "    for i_episode in range(1, n_episodes+1):\n",
    "        env_info = env.reset(train_mode=True)[brain_name]\n",
    "        state =  env_info.vector_observations\n",
    "        #print (state.shape)\n",
    "        score_left = 0\n",
    "        score_right = 0\n",
    "        score = 0\n",
    "        agent_left.reset()\n",
    "        agent_right.reset()\n",
    "       \n",
    "                         \n",
    "                         \n",
    "        for t in range(max_t):\n",
    "            action_left = agent_left.act(state[0].reshape(1,-1),noise)\n",
    "            action_right = agent_right.act(state[1].reshape(1,-1),noise)\n",
    "            noise *= noise_reduction\n",
    "            action = [action_left,action_right]\n",
    "            env_info = env.step(action)[brain_name]        # send the action to the environment\n",
    "            next_state = env_info.vector_observations      # get the next state\n",
    "                                                          \n",
    "            reward = env_info.rewards                      # get the reward                                                \n",
    "            done = env_info.local_done                     # get the done\n",
    "            \n",
    "            \n",
    "            agent_left.step(state[0], action_left, reward[0], next_state[0], done[0])\n",
    "            agent_right.step(state[1], action_right, reward[1], next_state[1], done[1])\n",
    "            \n",
    "            score_left += reward[0]\n",
    "            score_right += reward[1]                  # update the score\n",
    "            \n",
    "            state = next_state\n",
    "            \n",
    "            \n",
    "            if any(env_info.local_done):              # see if episode has finished\n",
    "                score = max(score_left,score_right)   #store the larger score from left and right\n",
    "                break \n",
    "        scores_window.append(score)       # save most recent 100 score\n",
    "        scores.append(score)              # save score\n",
    "       \n",
    "        print('\\rEpisode {}\\t Score: {:.2f}'.format(i_episode, score), end=\"\")\n",
    "        if i_episode % 100 == 0:\n",
    "            print('\\rEpisode {}\\tAverage most 100 Score: {:.2f}'.format(i_episode, np.mean(scores_window)))\n",
    "            scores_avg.append(np.mean(scores_window))\n",
    "        if np.mean(scores_window)>=0.5:\n",
    "            print('\\nEnvironment solved in {:d} episodes!\\tAverage Score: {:.2f}'.format(i_episode, np.mean(scores_window)))\n",
    "            torch.save(agent_left.actor_local.state_dict(), 'solved_magent1_actor_trained_model.pth')\n",
    "            torch.save(agent_left.critic_local.state_dict(), 'solved_magent1_critic_trained_model.pth')\n",
    "            torch.save(agent_right.actor_local.state_dict(), 'solved_magent2_actor_trained_model.pth')\n",
    "            torch.save(agent_right.critic_local.state_dict(), 'solved_magent2_critic_trained_model.pth')\n",
    "            break\n",
    "    return scores, scores_window,scores_avg\n",
    "\n",
    "start_time = time.time()\n",
    "scores,scores_window,scores_avg = ddpg()\n",
    "print (\"duration time :{:.2f} miniutes \".format((time.time()-start_time)/60))"
   ]
  },
  {
   "cell_type": "code",
   "execution_count": 11,
   "metadata": {
    "execution": {
     "iopub.execute_input": "2023-09-02T03:36:33.616917Z",
     "iopub.status.busy": "2023-09-02T03:36:33.616616Z",
     "iopub.status.idle": "2023-09-02T03:36:33.703550Z",
     "shell.execute_reply": "2023-09-02T03:36:33.702488Z",
     "shell.execute_reply.started": "2023-09-02T03:36:33.616880Z"
    },
    "tags": []
   },
   "outputs": [
    {
     "ename": "UnityEnvironmentException",
     "evalue": "No Unity environment is loaded.",
     "output_type": "error",
     "traceback": [
      "\u001b[0;31m---------------------------------------------------------------------------\u001b[0m",
      "\u001b[0;31mUnityEnvironmentException\u001b[0m                 Traceback (most recent call last)",
      "\u001b[0;32m<ipython-input-11-1baceacf4cb1>\u001b[0m in \u001b[0;36m<module>\u001b[0;34m\u001b[0m\n\u001b[0;32m----> 1\u001b[0;31m \u001b[0menv\u001b[0m\u001b[0;34m.\u001b[0m\u001b[0mclose\u001b[0m\u001b[0;34m(\u001b[0m\u001b[0;34m)\u001b[0m\u001b[0;34m\u001b[0m\u001b[0;34m\u001b[0m\u001b[0m\n\u001b[0m",
      "\u001b[0;32m/home/pai/lib/python3.6/site-packages/unityagents/environment.py\u001b[0m in \u001b[0;36mclose\u001b[0;34m(self)\u001b[0m\n\u001b[1;32m    392\u001b[0m             \u001b[0mself\u001b[0m\u001b[0;34m.\u001b[0m\u001b[0m_close\u001b[0m\u001b[0;34m(\u001b[0m\u001b[0;34m)\u001b[0m\u001b[0;34m\u001b[0m\u001b[0;34m\u001b[0m\u001b[0m\n\u001b[1;32m    393\u001b[0m         \u001b[0;32melse\u001b[0m\u001b[0;34m:\u001b[0m\u001b[0;34m\u001b[0m\u001b[0;34m\u001b[0m\u001b[0m\n\u001b[0;32m--> 394\u001b[0;31m             \u001b[0;32mraise\u001b[0m \u001b[0mUnityEnvironmentException\u001b[0m\u001b[0;34m(\u001b[0m\u001b[0;34m\"No Unity environment is loaded.\"\u001b[0m\u001b[0;34m)\u001b[0m\u001b[0;34m\u001b[0m\u001b[0;34m\u001b[0m\u001b[0m\n\u001b[0m\u001b[1;32m    395\u001b[0m \u001b[0;34m\u001b[0m\u001b[0m\n\u001b[1;32m    396\u001b[0m     \u001b[0;32mdef\u001b[0m \u001b[0m_close\u001b[0m\u001b[0;34m(\u001b[0m\u001b[0mself\u001b[0m\u001b[0;34m)\u001b[0m\u001b[0;34m:\u001b[0m\u001b[0;34m\u001b[0m\u001b[0;34m\u001b[0m\u001b[0m\n",
      "\u001b[0;31mUnityEnvironmentException\u001b[0m: No Unity environment is loaded."
     ]
    }
   ],
   "source": [
    "env.close()"
   ]
  },
  {
   "cell_type": "code",
   "execution_count": 10,
   "metadata": {
    "execution": {
     "iopub.execute_input": "2023-09-02T03:34:23.019608Z",
     "iopub.status.busy": "2023-09-02T03:34:23.019396Z",
     "iopub.status.idle": "2023-09-02T03:34:23.436534Z",
     "shell.execute_reply": "2023-09-02T03:34:23.435856Z",
     "shell.execute_reply.started": "2023-09-02T03:34:23.019578Z"
    }
   },
   "outputs": [
    {
     "data": {
      "image/png": "[encoded data removed]",
      "text/plain": [
       "<Figure size 432x288 with 1 Axes>"
      ]
     },
     "metadata": {
      "needs_background": "light"
     },
     "output_type": "display_data"
    }
   ],
   "source": [
    "# plot the scores\n",
    "import matplotlib.pyplot as plt\n",
    "fig = plt.figure()\n",
    "ax = fig.add_subplot(111)\n",
    "plt.plot(np.arange(len(scores)), scores)\n",
    "\n",
    "plt.ylabel('Score')\n",
    "plt.xlabel('Episode #')\n",
    "plt.show()"
   ]
  },
  {
   "cell_type": "code",
   "execution_count": 12,
   "metadata": {
    "execution": {
     "iopub.execute_input": "2023-09-02T03:36:47.736842Z",
     "iopub.status.busy": "2023-09-02T03:36:47.736548Z",
     "iopub.status.idle": "2023-09-02T03:36:47.846232Z",
     "shell.execute_reply": "2023-09-02T03:36:47.845554Z",
     "shell.execute_reply.started": "2023-09-02T03:36:47.736808Z"
    }
   },
   "outputs": [
    {
     "data": {
      "image/png": "[encoded data removed]",
      "text/plain": [
       "<Figure size 432x288 with 1 Axes>"
      ]
     },
     "metadata": {
      "needs_background": "light"
     },
     "output_type": "display_data"
    }
   ],
   "source": [
    "# plot the scores\n",
    "import matplotlib.pyplot as plt\n",
    "fig = plt.figure()\n",
    "ax = fig.add_subplot(111)\n",
    "plt.plot(np.arange(len(scores_avg)), scores_avg)\n",
    "\n",
    "plt.ylabel('Score')\n",
    "plt.xlabel('Episode #')\n",
    "plt.show()"
   ]
  },
  {
   "cell_type": "code",
   "execution_count": null,
   "metadata": {},
   "outputs": [],
   "source": []
  }
 ],
 "metadata": {
  "kernelspec": {
   "display_name": "Python 3",
   "language": "python",
   "name": "python3"
  },
  "language_info": {
   "codemirror_mode": {
    "name": "ipython",
    "version": 3
   },
   "file_extension": ".py",
   "mimetype": "text/x-python",
   "name": "python",
   "nbconvert_exporter": "python",
   "pygments_lexer": "ipython3",
   "version": "3.6.12"
  }
 },
 "nbformat": 4,
 "nbformat_minor": 4
}
